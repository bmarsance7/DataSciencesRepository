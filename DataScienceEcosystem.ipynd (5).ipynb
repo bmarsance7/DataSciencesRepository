{
 "cells": [
  {
   "cell_type": "markdown",
   "id": "89551c5b-56a8-4d5a-b52b-dae533f7f63c",
   "metadata": {},
   "source": [
    "# Data Science Tools and Ecosystem"
   ]
  },
  {
   "cell_type": "markdown",
   "id": "d29943e0-c4bf-4607-aab0-34f1b0bae918",
   "metadata": {
    "jp-MarkdownHeadingCollapsed": true
   },
   "source": [
    " In this notebook, Data Science Tools and Ecosystem are summarized."
   ]
  },
  {
   "cell_type": "markdown",
   "id": "66efb5f3-80b2-4940-b7d8-26c3224229e5",
   "metadata": {},
   "source": [
    "\n",
    "  **Objectives**\n",
    "    \n",
    " * List some popular languages that Data Scientists use.\n",
    " * List commonly libraries used by Data Scientists \n",
    " * Show some open source in Data Science. "
   ]
  },
  {
   "cell_type": "markdown",
   "id": "028c853c-4f3c-41c9-bc7c-1dde1045c8ca",
   "metadata": {},
   "source": [
    " See below some popular languages that Data Scientists use:\n",
    "1. Python\n",
    "2. R\n",
    "3. SQL"
   ]
  },
  {
   "attachments": {},
   "cell_type": "markdown",
   "id": "05aaaabb-6073-47b0-bf41-4a332cfb1440",
   "metadata": {},
   "source": [
    " The commonly libraries use by Data Scientists include:\n",
    "1. Pandas\n",
    "2. Numpy\n",
    "3. Seaborn"
   ]
  },
  {
   "cell_type": "markdown",
   "id": "25bb4e54-035a-448f-a872-35ec77627ba3",
   "metadata": {},
   "source": [
    "\n",
    "\n",
    "\n",
    "| Data Science Tools |\n",
    "---------------------\n",
    "| R Studio           |\n",
    "| -------------------|\n",
    "| Jupyter Labs       |\n",
    "|--------------------|\n",
    "| Watson Studio      |\n",
    "\n",
    " "
   ]
  },
  {
   "cell_type": "markdown",
   "id": "b0b349b1-2c28-4fcb-b81e-eadf399400b1",
   "metadata": {
    "scrolled": true
   },
   "source": [
    " ### Below are a few example of arithmetic expressions in python.\n",
    " \n"
   ]
  },
  {
   "cell_type": "code",
   "execution_count": 11,
   "id": "022347d1-dbc2-45ab-80cf-f6311689d7a1",
   "metadata": {},
   "outputs": [
    {
     "data": {
      "text/plain": [
       "17"
      ]
     },
     "execution_count": 11,
     "metadata": {},
     "output_type": "execute_result"
    }
   ],
   "source": [
    "# This a simple example of arithmetic expression to multiply then add integers\n",
    "\n",
    "(4*3)+5\n"
   ]
  },
  {
   "cell_type": "code",
   "execution_count": 5,
   "id": "d3584404-6622-4b81-8cec-aa9b36572dc2",
   "metadata": {},
   "outputs": [
    {
     "data": {
      "text/plain": [
       "3.3333333333333335"
      ]
     },
     "execution_count": 5,
     "metadata": {},
     "output_type": "execute_result"
    }
   ],
   "source": [
    "# This will convert 200 minutes to hours by diving 60\n",
    "minutes = 200\n",
    "hours = minutes  /60\n",
    "hours "
   ]
  },
  {
   "cell_type": "markdown",
   "id": "74482833-32db-4437-80bc-ad7cd4444aea",
   "metadata": {},
   "source": [
    "  In this notebook, Data Science Tools and Ecosystem are summarized.\n",
    "\n"
   ]
  },
  {
   "cell_type": "code",
   "execution_count": 30,
   "id": "a729c696-41a0-4785-ae43-4c7274b5d25a",
   "metadata": {},
   "outputs": [],
   "source": [
    "#. List of Data science languages\n",
    "#. List of Data Science Tools\n",
    "#. List of python libraries"
   ]
  },
  {
   "cell_type": "markdown",
   "id": "abd1a1ac-51a8-4243-a19d-e10cdf49b634",
   "metadata": {
    "jp-MarkdownHeadingCollapsed": true
   },
   "source": [
    "## Author \n",
    "\n",
    "BILOA MARIE Marsance"
   ]
  },
  {
   "cell_type": "code",
   "execution_count": null,
   "id": "38bacfe0-53e7-42c1-9cfe-944900838064",
   "metadata": {},
   "outputs": [],
   "source": []
  }
 ],
 "metadata": {
  "kernelspec": {
   "display_name": "anaconda-panel-2023.05-py310",
   "language": "python",
   "name": "conda-env-anaconda-panel-2023.05-py310-py"
  },
  "language_info": {
   "codemirror_mode": {
    "name": "ipython",
    "version": 3
   },
   "file_extension": ".py",
   "mimetype": "text/x-python",
   "name": "python",
   "nbconvert_exporter": "python",
   "pygments_lexer": "ipython3",
   "version": "3.11.5"
  }
 },
 "nbformat": 4,
 "nbformat_minor": 5
}
